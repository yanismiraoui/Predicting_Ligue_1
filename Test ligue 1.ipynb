{
 "cells": [
  {
   "cell_type": "code",
   "execution_count": 61,
   "metadata": {},
   "outputs": [],
   "source": [
    "import pandas as pd \n",
    "import numpy as np\n",
    "import datetime"
   ]
  },
  {
   "cell_type": "code",
   "execution_count": 66,
   "metadata": {},
   "outputs": [],
   "source": [
    "df_2019 = pd.read_csv('C:\\\\Users\\\\ynm19\\\\Documents\\\\2019data.csv')"
   ]
  },
  {
   "cell_type": "code",
   "execution_count": 67,
   "metadata": {},
   "outputs": [
    {
     "name": "stdout",
     "output_type": "stream",
     "text": [
      "    Div        Date   Time   HomeTeam    AwayTeam  FTHG  FTAG FTR  HTHG  HTAG  \\\n",
      "0    F1  09/08/2019  19:45     Monaco        Lyon     0     3   A     0     2   \n",
      "1    F1  10/08/2019  16:30  Marseille       Reims     0     2   A     0     0   \n",
      "2    F1  10/08/2019  19:00     Angers    Bordeaux     3     1   H     3     1   \n",
      "3    F1  10/08/2019  19:00      Brest    Toulouse     1     1   D     1     0   \n",
      "4    F1  10/08/2019  19:00      Dijon  St Etienne     1     2   A     1     2   \n",
      "..   ..         ...    ...        ...         ...   ...   ...  ..   ...   ...   \n",
      "195  F1  12/01/2020  16:00      Dijon       Lille     1     0   H     0     0   \n",
      "196  F1  12/01/2020  20:00   Paris SG      Monaco     3     3   D     3     2   \n",
      "197  F1  15/01/2020  18:00     Amiens       Reims     1     1   D     0     1   \n",
      "198  F1  15/01/2020  18:00      Nimes      Rennes     0     1   A     0     0   \n",
      "199  F1  15/01/2020  20:00     Monaco    Paris SG     1     4   A     0     2   \n",
      "\n",
      "     ... AvgC<2.5  AHCh  B365CAHH  B365CAHA  PCAHH  PCAHA  MaxCAHH  MaxCAHA  \\\n",
      "0    ...     2.01  0.25      2.04      1.86   2.01   1.90     2.06     2.01   \n",
      "1    ...     1.75 -0.75      2.02      1.88   2.05   1.87     2.06     1.97   \n",
      "2    ...     1.49 -0.25      1.75      2.05   1.79   2.15     1.80     2.17   \n",
      "3    ...     1.77 -0.50      2.10      1.80   2.10   1.83     2.12     1.83   \n",
      "4    ...     1.79  0.25      2.07      1.72   2.14   1.79     2.16     1.82   \n",
      "..   ...      ...   ...       ...       ...    ...    ...      ...      ...   \n",
      "195  ...     1.67  0.50      1.75      2.05   1.79   2.13     1.82     2.16   \n",
      "196  ...     4.45 -2.75      2.05      1.75   2.13   1.78     2.22     1.86   \n",
      "197  ...     1.40  0.00      1.88      2.05   1.87   2.05     1.91     2.06   \n",
      "198  ...     1.60  0.25      1.97      1.96   1.96   1.96     2.08     1.97   \n",
      "199  ...     3.27  1.00      1.93      2.00   1.93   2.00     1.98     2.06   \n",
      "\n",
      "     AvgCAHH  AvgCAHA  \n",
      "0       2.01     1.87  \n",
      "1       1.98     1.89  \n",
      "2       1.77     2.11  \n",
      "3       2.08     1.79  \n",
      "4       2.09     1.79  \n",
      "..       ...      ...  \n",
      "195     1.78     2.08  \n",
      "196     2.13     1.73  \n",
      "197     1.84     2.01  \n",
      "198     1.94     1.91  \n",
      "199     1.88     1.97  \n",
      "\n",
      "[200 rows x 105 columns]\n"
     ]
    }
   ],
   "source": [
    "print(df_2019)"
   ]
  },
  {
   "cell_type": "code",
   "execution_count": 68,
   "metadata": {},
   "outputs": [],
   "source": [
    "def get_winning_team(row):\n",
    "    team_1 = row['HomeTeam']\n",
    "    team_2 = row['AwayTeam']\n",
    "    if row['FTR'] == \"H\":\n",
    "        return team_1\n",
    "    elif row['FTR'] == \"D\" :\n",
    "        return \"Draw\"\n",
    "    else :\n",
    "        return team_2"
   ]
  },
  {
   "cell_type": "code",
   "execution_count": 69,
   "metadata": {},
   "outputs": [],
   "source": [
    "def get_losing_team(row):\n",
    "    team_1 = row['HomeTeam']\n",
    "    team_2 = row['AwayTeam']\n",
    "    if row['FTR'] == \"A\":\n",
    "        return team_1\n",
    "    elif row['FTR'] == \"D\" :\n",
    "        return \"Draw\"\n",
    "    else :\n",
    "        return team_2\n",
    "df_2019['WinningTeam'] = df_2019.apply(get_winning_team, axis=1)\n",
    "df_2019['LosingTeam'] = df_2019.apply(get_losing_team, axis=1)"
   ]
  },
  {
   "cell_type": "code",
   "execution_count": 70,
   "metadata": {},
   "outputs": [],
   "source": [
    "F1Teams=['Lyon','Nantes','Reims','Bordeaux','Paris SG','Lille','Marseille','Nimes','St Etienne','Montpellier','Monaco','Angers','Nice','Toulouse','Amiens','Rennes','Brest','Dijon','Strasbourg','Metz']"
   ]
  },
  {
   "cell_type": "code",
   "execution_count": 71,
   "metadata": {},
   "outputs": [],
   "source": [
    "df19 = pd.DataFrame(F1Teams,columns =['Teams']) "
   ]
  },
  {
   "cell_type": "code",
   "execution_count": 72,
   "metadata": {},
   "outputs": [],
   "source": [
    "# Played Games\n",
    "for i in df19.index:\n",
    "    team = df19.loc[i,\"Teams\"]\n",
    "    home_game = df_2019.groupby(\"HomeTeam\").count().loc[team,\"Div\"]\n",
    "    away_game = df_2019.groupby(\"AwayTeam\").count().loc[team,\"Div\"]\n",
    "    df19.loc[i,\"Games\"] = home_game + away_game"
   ]
  },
  {
   "cell_type": "code",
   "execution_count": 73,
   "metadata": {},
   "outputs": [],
   "source": [
    "# Number of wins\n",
    "for i in df19.index:\n",
    "    team = df19.loc[i,\"Teams\"]\n",
    "    wins = df_2019.groupby(\"WinningTeam\").count().loc[team,\"Div\"]\n",
    "    df19.loc[i,\"Wins\"] =wins\n",
    "df19['WinningRatio']= df19['Wins']/df19['Games']"
   ]
  },
  {
   "cell_type": "code",
   "execution_count": 74,
   "metadata": {},
   "outputs": [],
   "source": [
    "# Number of losses \n",
    "for i in df19.index:\n",
    "    team = df19.loc[i,\"Teams\"]\n",
    "    losses = df_2019.groupby(\"LosingTeam\").count().loc[team,\"Div\"]\n",
    "    df19.loc[i,\"Losses\"] = losses\n",
    "df19['LosingRatio']= df19['Losses']/df19['Games']"
   ]
  },
  {
   "cell_type": "code",
   "execution_count": 75,
   "metadata": {},
   "outputs": [],
   "source": [
    "# Number of Draws\n",
    "df19['Draws'] = abs((df19['Wins'] + df19['Losses']) - df19['Games'])\n",
    "df19['DrawRatio'] = df19['Draws']/df19['Games']"
   ]
  },
  {
   "cell_type": "code",
   "execution_count": 76,
   "metadata": {},
   "outputs": [],
   "source": [
    "df19 = df19[['Teams','Games','Wins','Losses','Draws','WinningRatio','LosingRatio','DrawRatio']]"
   ]
  },
  {
   "cell_type": "code",
   "execution_count": 77,
   "metadata": {},
   "outputs": [],
   "source": [
    "df_2019[\"home_win\"] = df_2019[\"FTR\"] == \"H\""
   ]
  },
  {
   "cell_type": "code",
   "execution_count": 118,
   "metadata": {},
   "outputs": [
    {
     "ename": "ModuleNotFoundError",
     "evalue": "No module named 'sklearn'",
     "output_type": "error",
     "traceback": [
      "\u001b[1;31m---------------------------------------------------------------------------\u001b[0m",
      "\u001b[1;31mModuleNotFoundError\u001b[0m                       Traceback (most recent call last)",
      "\u001b[1;32m<ipython-input-118-4548bceadeb1>\u001b[0m in \u001b[0;36m<module>\u001b[1;34m\u001b[0m\n\u001b[1;32m----> 1\u001b[1;33m \u001b[1;32mfrom\u001b[0m \u001b[0msklearn\u001b[0m\u001b[1;33m.\u001b[0m\u001b[0mdatasets\u001b[0m \u001b[1;32mimport\u001b[0m \u001b[0mmake_classification\u001b[0m\u001b[1;33m\u001b[0m\u001b[1;33m\u001b[0m\u001b[0m\n\u001b[0m\u001b[0;32m      2\u001b[0m \u001b[1;32mfrom\u001b[0m \u001b[0mmatplotlib\u001b[0m \u001b[1;32mimport\u001b[0m \u001b[0mpyplot\u001b[0m \u001b[1;32mas\u001b[0m \u001b[0mplt\u001b[0m\u001b[1;33m\u001b[0m\u001b[1;33m\u001b[0m\u001b[0m\n\u001b[0;32m      3\u001b[0m \u001b[1;32mfrom\u001b[0m \u001b[0msklearn\u001b[0m\u001b[1;33m.\u001b[0m\u001b[0mlinear_model\u001b[0m \u001b[1;32mimport\u001b[0m \u001b[0mLogisticRegression\u001b[0m\u001b[1;33m\u001b[0m\u001b[1;33m\u001b[0m\u001b[0m\n\u001b[0;32m      4\u001b[0m \u001b[1;32mimport\u001b[0m \u001b[0mseaborn\u001b[0m \u001b[1;32mas\u001b[0m \u001b[0msns\u001b[0m\u001b[1;33m\u001b[0m\u001b[1;33m\u001b[0m\u001b[0m\n\u001b[0;32m      5\u001b[0m \u001b[0msns\u001b[0m\u001b[1;33m.\u001b[0m\u001b[0mset\u001b[0m\u001b[1;33m(\u001b[0m\u001b[1;33m)\u001b[0m\u001b[1;33m\u001b[0m\u001b[1;33m\u001b[0m\u001b[0m\n",
      "\u001b[1;31mModuleNotFoundError\u001b[0m: No module named 'sklearn'"
     ]
    }
   ],
   "source": [
    "from sklearn.datasets import make_classification\n",
    "from matplotlib import pyplot as plt\n",
    "from sklearn.linear_model import LogisticRegression\n",
    "import seaborn as sns\n",
    "sns.set()\n",
    "from sklearn.model_selection import train_test_split\n",
    "from sklearn.metrics import confusion_matrix\n",
    "import pandas as pd"
   ]
  },
  {
   "cell_type": "code",
   "execution_count": 79,
   "metadata": {},
   "outputs": [
    {
     "ename": "KeyError",
     "evalue": "\"['Games lost before by Metz', 'Games won before by Metz'] not in index\"",
     "output_type": "error",
     "traceback": [
      "\u001b[1;31m---------------------------------------------------------------------------\u001b[0m",
      "\u001b[1;31mKeyError\u001b[0m                                  Traceback (most recent call last)",
      "\u001b[1;32m<ipython-input-79-745cd0777860>\u001b[0m in \u001b[0;36m<module>\u001b[1;34m\u001b[0m\n\u001b[0;32m      3\u001b[0m     \u001b[0mlossesbefore\u001b[0m \u001b[1;33m=\u001b[0m \u001b[1;34m\"Games lost before by {}\"\u001b[0m\u001b[1;33m.\u001b[0m\u001b[0mformat\u001b[0m\u001b[1;33m(\u001b[0m\u001b[0mteam\u001b[0m\u001b[1;33m)\u001b[0m\u001b[1;33m\u001b[0m\u001b[1;33m\u001b[0m\u001b[0m\n\u001b[0;32m      4\u001b[0m     \u001b[0mwinsbefore\u001b[0m \u001b[1;33m=\u001b[0m \u001b[1;34m\"Games won before by {}\"\u001b[0m\u001b[1;33m.\u001b[0m\u001b[0mformat\u001b[0m\u001b[1;33m(\u001b[0m\u001b[0mteam\u001b[0m\u001b[1;33m)\u001b[0m\u001b[1;33m\u001b[0m\u001b[1;33m\u001b[0m\u001b[0m\n\u001b[1;32m----> 5\u001b[1;33m \u001b[0mx\u001b[0m \u001b[1;33m=\u001b[0m \u001b[0mdf_2019\u001b[0m\u001b[1;33m[\u001b[0m\u001b[1;33m[\u001b[0m\u001b[1;34m\"B365H\"\u001b[0m\u001b[1;33m,\u001b[0m\u001b[1;34m\"B365A\"\u001b[0m\u001b[1;33m,\u001b[0m\u001b[1;34m\"HST\"\u001b[0m\u001b[1;33m,\u001b[0m\u001b[1;34m\"AST\"\u001b[0m\u001b[1;33m,\u001b[0m\u001b[0mlossesbefore\u001b[0m\u001b[1;33m,\u001b[0m\u001b[0mwinsbefore\u001b[0m\u001b[1;33m]\u001b[0m\u001b[1;33m]\u001b[0m\u001b[1;33m\u001b[0m\u001b[1;33m\u001b[0m\u001b[0m\n\u001b[0m\u001b[0;32m      6\u001b[0m \u001b[0my\u001b[0m \u001b[1;33m=\u001b[0m \u001b[0mdf_2019\u001b[0m\u001b[1;33m[\u001b[0m\u001b[1;34m\"home_win\"\u001b[0m\u001b[1;33m]\u001b[0m\u001b[1;33m\u001b[0m\u001b[1;33m\u001b[0m\u001b[0m\n\u001b[0;32m      7\u001b[0m \u001b[0mx_train\u001b[0m\u001b[1;33m,\u001b[0m \u001b[0mx_test\u001b[0m\u001b[1;33m,\u001b[0m \u001b[0my_train\u001b[0m\u001b[1;33m,\u001b[0m \u001b[0my_test\u001b[0m \u001b[1;33m=\u001b[0m \u001b[0mtrain_test_split\u001b[0m\u001b[1;33m(\u001b[0m\u001b[0mx\u001b[0m\u001b[1;33m,\u001b[0m \u001b[0my\u001b[0m\u001b[1;33m,\u001b[0m \u001b[0mrandom_state\u001b[0m\u001b[1;33m=\u001b[0m\u001b[1;36m1\u001b[0m\u001b[1;33m)\u001b[0m\u001b[1;33m\u001b[0m\u001b[1;33m\u001b[0m\u001b[0m\n",
      "\u001b[1;32mC:\\ProgramData\\Anaconda3\\lib\\site-packages\\pandas\\core\\frame.py\u001b[0m in \u001b[0;36m__getitem__\u001b[1;34m(self, key)\u001b[0m\n\u001b[0;32m   2999\u001b[0m             \u001b[1;32mif\u001b[0m \u001b[0mis_iterator\u001b[0m\u001b[1;33m(\u001b[0m\u001b[0mkey\u001b[0m\u001b[1;33m)\u001b[0m\u001b[1;33m:\u001b[0m\u001b[1;33m\u001b[0m\u001b[1;33m\u001b[0m\u001b[0m\n\u001b[0;32m   3000\u001b[0m                 \u001b[0mkey\u001b[0m \u001b[1;33m=\u001b[0m \u001b[0mlist\u001b[0m\u001b[1;33m(\u001b[0m\u001b[0mkey\u001b[0m\u001b[1;33m)\u001b[0m\u001b[1;33m\u001b[0m\u001b[1;33m\u001b[0m\u001b[0m\n\u001b[1;32m-> 3001\u001b[1;33m             \u001b[0mindexer\u001b[0m \u001b[1;33m=\u001b[0m \u001b[0mself\u001b[0m\u001b[1;33m.\u001b[0m\u001b[0mloc\u001b[0m\u001b[1;33m.\u001b[0m\u001b[0m_convert_to_indexer\u001b[0m\u001b[1;33m(\u001b[0m\u001b[0mkey\u001b[0m\u001b[1;33m,\u001b[0m \u001b[0maxis\u001b[0m\u001b[1;33m=\u001b[0m\u001b[1;36m1\u001b[0m\u001b[1;33m,\u001b[0m \u001b[0mraise_missing\u001b[0m\u001b[1;33m=\u001b[0m\u001b[1;32mTrue\u001b[0m\u001b[1;33m)\u001b[0m\u001b[1;33m\u001b[0m\u001b[1;33m\u001b[0m\u001b[0m\n\u001b[0m\u001b[0;32m   3002\u001b[0m \u001b[1;33m\u001b[0m\u001b[0m\n\u001b[0;32m   3003\u001b[0m         \u001b[1;31m# take() does not accept boolean indexers\u001b[0m\u001b[1;33m\u001b[0m\u001b[1;33m\u001b[0m\u001b[1;33m\u001b[0m\u001b[0m\n",
      "\u001b[1;32mC:\\ProgramData\\Anaconda3\\lib\\site-packages\\pandas\\core\\indexing.py\u001b[0m in \u001b[0;36m_convert_to_indexer\u001b[1;34m(self, obj, axis, is_setter, raise_missing)\u001b[0m\n\u001b[0;32m   1283\u001b[0m                 \u001b[1;31m# When setting, missing keys are not allowed, even with .loc:\u001b[0m\u001b[1;33m\u001b[0m\u001b[1;33m\u001b[0m\u001b[1;33m\u001b[0m\u001b[0m\n\u001b[0;32m   1284\u001b[0m                 \u001b[0mkwargs\u001b[0m \u001b[1;33m=\u001b[0m \u001b[1;33m{\u001b[0m\u001b[1;34m\"raise_missing\"\u001b[0m\u001b[1;33m:\u001b[0m \u001b[1;32mTrue\u001b[0m \u001b[1;32mif\u001b[0m \u001b[0mis_setter\u001b[0m \u001b[1;32melse\u001b[0m \u001b[0mraise_missing\u001b[0m\u001b[1;33m}\u001b[0m\u001b[1;33m\u001b[0m\u001b[1;33m\u001b[0m\u001b[0m\n\u001b[1;32m-> 1285\u001b[1;33m                 \u001b[1;32mreturn\u001b[0m \u001b[0mself\u001b[0m\u001b[1;33m.\u001b[0m\u001b[0m_get_listlike_indexer\u001b[0m\u001b[1;33m(\u001b[0m\u001b[0mobj\u001b[0m\u001b[1;33m,\u001b[0m \u001b[0maxis\u001b[0m\u001b[1;33m,\u001b[0m \u001b[1;33m**\u001b[0m\u001b[0mkwargs\u001b[0m\u001b[1;33m)\u001b[0m\u001b[1;33m[\u001b[0m\u001b[1;36m1\u001b[0m\u001b[1;33m]\u001b[0m\u001b[1;33m\u001b[0m\u001b[1;33m\u001b[0m\u001b[0m\n\u001b[0m\u001b[0;32m   1286\u001b[0m         \u001b[1;32melse\u001b[0m\u001b[1;33m:\u001b[0m\u001b[1;33m\u001b[0m\u001b[1;33m\u001b[0m\u001b[0m\n\u001b[0;32m   1287\u001b[0m             \u001b[1;32mtry\u001b[0m\u001b[1;33m:\u001b[0m\u001b[1;33m\u001b[0m\u001b[1;33m\u001b[0m\u001b[0m\n",
      "\u001b[1;32mC:\\ProgramData\\Anaconda3\\lib\\site-packages\\pandas\\core\\indexing.py\u001b[0m in \u001b[0;36m_get_listlike_indexer\u001b[1;34m(self, key, axis, raise_missing)\u001b[0m\n\u001b[0;32m   1090\u001b[0m \u001b[1;33m\u001b[0m\u001b[0m\n\u001b[0;32m   1091\u001b[0m         self._validate_read_indexer(\n\u001b[1;32m-> 1092\u001b[1;33m             \u001b[0mkeyarr\u001b[0m\u001b[1;33m,\u001b[0m \u001b[0mindexer\u001b[0m\u001b[1;33m,\u001b[0m \u001b[0mo\u001b[0m\u001b[1;33m.\u001b[0m\u001b[0m_get_axis_number\u001b[0m\u001b[1;33m(\u001b[0m\u001b[0maxis\u001b[0m\u001b[1;33m)\u001b[0m\u001b[1;33m,\u001b[0m \u001b[0mraise_missing\u001b[0m\u001b[1;33m=\u001b[0m\u001b[0mraise_missing\u001b[0m\u001b[1;33m\u001b[0m\u001b[1;33m\u001b[0m\u001b[0m\n\u001b[0m\u001b[0;32m   1093\u001b[0m         )\n\u001b[0;32m   1094\u001b[0m         \u001b[1;32mreturn\u001b[0m \u001b[0mkeyarr\u001b[0m\u001b[1;33m,\u001b[0m \u001b[0mindexer\u001b[0m\u001b[1;33m\u001b[0m\u001b[1;33m\u001b[0m\u001b[0m\n",
      "\u001b[1;32mC:\\ProgramData\\Anaconda3\\lib\\site-packages\\pandas\\core\\indexing.py\u001b[0m in \u001b[0;36m_validate_read_indexer\u001b[1;34m(self, key, indexer, axis, raise_missing)\u001b[0m\n\u001b[0;32m   1183\u001b[0m             \u001b[1;32mif\u001b[0m \u001b[1;32mnot\u001b[0m \u001b[1;33m(\u001b[0m\u001b[0mself\u001b[0m\u001b[1;33m.\u001b[0m\u001b[0mname\u001b[0m \u001b[1;33m==\u001b[0m \u001b[1;34m\"loc\"\u001b[0m \u001b[1;32mand\u001b[0m \u001b[1;32mnot\u001b[0m \u001b[0mraise_missing\u001b[0m\u001b[1;33m)\u001b[0m\u001b[1;33m:\u001b[0m\u001b[1;33m\u001b[0m\u001b[1;33m\u001b[0m\u001b[0m\n\u001b[0;32m   1184\u001b[0m                 \u001b[0mnot_found\u001b[0m \u001b[1;33m=\u001b[0m \u001b[0mlist\u001b[0m\u001b[1;33m(\u001b[0m\u001b[0mset\u001b[0m\u001b[1;33m(\u001b[0m\u001b[0mkey\u001b[0m\u001b[1;33m)\u001b[0m \u001b[1;33m-\u001b[0m \u001b[0mset\u001b[0m\u001b[1;33m(\u001b[0m\u001b[0max\u001b[0m\u001b[1;33m)\u001b[0m\u001b[1;33m)\u001b[0m\u001b[1;33m\u001b[0m\u001b[1;33m\u001b[0m\u001b[0m\n\u001b[1;32m-> 1185\u001b[1;33m                 \u001b[1;32mraise\u001b[0m \u001b[0mKeyError\u001b[0m\u001b[1;33m(\u001b[0m\u001b[1;34m\"{} not in index\"\u001b[0m\u001b[1;33m.\u001b[0m\u001b[0mformat\u001b[0m\u001b[1;33m(\u001b[0m\u001b[0mnot_found\u001b[0m\u001b[1;33m)\u001b[0m\u001b[1;33m)\u001b[0m\u001b[1;33m\u001b[0m\u001b[1;33m\u001b[0m\u001b[0m\n\u001b[0m\u001b[0;32m   1186\u001b[0m \u001b[1;33m\u001b[0m\u001b[0m\n\u001b[0;32m   1187\u001b[0m             \u001b[1;31m# we skip the warning on Categorical/Interval\u001b[0m\u001b[1;33m\u001b[0m\u001b[1;33m\u001b[0m\u001b[1;33m\u001b[0m\u001b[0m\n",
      "\u001b[1;31mKeyError\u001b[0m: \"['Games lost before by Metz', 'Games won before by Metz'] not in index\""
     ]
    }
   ],
   "source": [
    "for n in df19.index :\n",
    "    team = df19.loc[n,\"Teams\"]\n",
    "    lossesbefore = \"Games lost before by {}\".format(team)\n",
    "    winsbefore = \"Games won before by {}\".format(team)\n",
    "x = df_2019[[\"B365H\",\"B365A\",\"HST\",\"AST\",lossesbefore,winsbefore]]\n",
    "y = df_2019[\"home_win\"]\n",
    "x_train, x_test, y_train, y_test = train_test_split(x, y, random_state=1)"
   ]
  },
  {
   "cell_type": "code",
   "execution_count": 80,
   "metadata": {},
   "outputs": [
    {
     "ename": "NameError",
     "evalue": "name 'LogisticRegression' is not defined",
     "output_type": "error",
     "traceback": [
      "\u001b[1;31m---------------------------------------------------------------------------\u001b[0m",
      "\u001b[1;31mNameError\u001b[0m                                 Traceback (most recent call last)",
      "\u001b[1;32m<ipython-input-80-23c2de0dfffe>\u001b[0m in \u001b[0;36m<module>\u001b[1;34m\u001b[0m\n\u001b[1;32m----> 1\u001b[1;33m \u001b[0mlr\u001b[0m \u001b[1;33m=\u001b[0m \u001b[0mLogisticRegression\u001b[0m\u001b[1;33m(\u001b[0m\u001b[1;33m)\u001b[0m\u001b[1;33m\u001b[0m\u001b[1;33m\u001b[0m\u001b[0m\n\u001b[0m\u001b[0;32m      2\u001b[0m \u001b[0mlr\u001b[0m\u001b[1;33m.\u001b[0m\u001b[0mfit\u001b[0m\u001b[1;33m(\u001b[0m\u001b[0mx_train\u001b[0m\u001b[1;33m,\u001b[0m \u001b[0my_train\u001b[0m\u001b[1;33m)\u001b[0m\u001b[1;33m\u001b[0m\u001b[1;33m\u001b[0m\u001b[0m\n",
      "\u001b[1;31mNameError\u001b[0m: name 'LogisticRegression' is not defined"
     ]
    }
   ],
   "source": [
    "lr = LogisticRegression()\n",
    "lr.fit(x_train, y_train)"
   ]
  },
  {
   "cell_type": "code",
   "execution_count": 81,
   "metadata": {},
   "outputs": [
    {
     "ename": "NameError",
     "evalue": "name 'lr' is not defined",
     "output_type": "error",
     "traceback": [
      "\u001b[1;31m---------------------------------------------------------------------------\u001b[0m",
      "\u001b[1;31mNameError\u001b[0m                                 Traceback (most recent call last)",
      "\u001b[1;32m<ipython-input-81-9cae3323a52a>\u001b[0m in \u001b[0;36m<module>\u001b[1;34m\u001b[0m\n\u001b[1;32m----> 1\u001b[1;33m \u001b[0mprint\u001b[0m\u001b[1;33m(\u001b[0m\u001b[0mlr\u001b[0m\u001b[1;33m.\u001b[0m\u001b[0mcoef_\u001b[0m\u001b[1;33m)\u001b[0m\u001b[1;33m\u001b[0m\u001b[1;33m\u001b[0m\u001b[0m\n\u001b[0m\u001b[0;32m      2\u001b[0m \u001b[0mprint\u001b[0m\u001b[1;33m(\u001b[0m\u001b[0mlr\u001b[0m\u001b[1;33m.\u001b[0m\u001b[0mintercept_\u001b[0m\u001b[1;33m)\u001b[0m\u001b[1;33m\u001b[0m\u001b[1;33m\u001b[0m\u001b[0m\n",
      "\u001b[1;31mNameError\u001b[0m: name 'lr' is not defined"
     ]
    }
   ],
   "source": [
    "print(lr.coef_)\n",
    "print(lr.intercept_)"
   ]
  },
  {
   "cell_type": "code",
   "execution_count": 82,
   "metadata": {},
   "outputs": [
    {
     "ename": "NameError",
     "evalue": "name 'lr' is not defined",
     "output_type": "error",
     "traceback": [
      "\u001b[1;31m---------------------------------------------------------------------------\u001b[0m",
      "\u001b[1;31mNameError\u001b[0m                                 Traceback (most recent call last)",
      "\u001b[1;32m<ipython-input-82-304921b5732e>\u001b[0m in \u001b[0;36m<module>\u001b[1;34m\u001b[0m\n\u001b[1;32m----> 1\u001b[1;33m \u001b[0my_pred\u001b[0m \u001b[1;33m=\u001b[0m \u001b[0mlr\u001b[0m\u001b[1;33m.\u001b[0m\u001b[0mpredict\u001b[0m\u001b[1;33m(\u001b[0m\u001b[0mx_test\u001b[0m\u001b[1;33m)\u001b[0m\u001b[1;33m\u001b[0m\u001b[1;33m\u001b[0m\u001b[0m\n\u001b[0m",
      "\u001b[1;31mNameError\u001b[0m: name 'lr' is not defined"
     ]
    }
   ],
   "source": [
    "y_pred = lr.predict(x_test)"
   ]
  },
  {
   "cell_type": "code",
   "execution_count": 83,
   "metadata": {},
   "outputs": [
    {
     "ename": "NameError",
     "evalue": "name 'confusion_matrix' is not defined",
     "output_type": "error",
     "traceback": [
      "\u001b[1;31m---------------------------------------------------------------------------\u001b[0m",
      "\u001b[1;31mNameError\u001b[0m                                 Traceback (most recent call last)",
      "\u001b[1;32m<ipython-input-83-430e012b2078>\u001b[0m in \u001b[0;36m<module>\u001b[1;34m\u001b[0m\n\u001b[1;32m----> 1\u001b[1;33m \u001b[0mconfusion_matrix\u001b[0m\u001b[1;33m(\u001b[0m\u001b[0my_test\u001b[0m\u001b[1;33m,\u001b[0m \u001b[0my_pred\u001b[0m\u001b[1;33m)\u001b[0m\u001b[1;33m\u001b[0m\u001b[1;33m\u001b[0m\u001b[0m\n\u001b[0m",
      "\u001b[1;31mNameError\u001b[0m: name 'confusion_matrix' is not defined"
     ]
    }
   ],
   "source": [
    "confusion_matrix(y_test, y_pred)"
   ]
  },
  {
   "cell_type": "code",
   "execution_count": 84,
   "metadata": {},
   "outputs": [
    {
     "ename": "NameError",
     "evalue": "name 'lr' is not defined",
     "output_type": "error",
     "traceback": [
      "\u001b[1;31m---------------------------------------------------------------------------\u001b[0m",
      "\u001b[1;31mNameError\u001b[0m                                 Traceback (most recent call last)",
      "\u001b[1;32m<ipython-input-84-5a5851ab71be>\u001b[0m in \u001b[0;36m<module>\u001b[1;34m\u001b[0m\n\u001b[0;32m      1\u001b[0m \u001b[1;31m# Use score method to get accuracy of model\u001b[0m\u001b[1;33m\u001b[0m\u001b[1;33m\u001b[0m\u001b[1;33m\u001b[0m\u001b[0m\n\u001b[1;32m----> 2\u001b[1;33m \u001b[0mscore\u001b[0m \u001b[1;33m=\u001b[0m \u001b[0mlr\u001b[0m\u001b[1;33m.\u001b[0m\u001b[0mscore\u001b[0m\u001b[1;33m(\u001b[0m\u001b[0mx_test\u001b[0m\u001b[1;33m,\u001b[0m \u001b[0my_test\u001b[0m\u001b[1;33m)\u001b[0m\u001b[1;33m\u001b[0m\u001b[1;33m\u001b[0m\u001b[0m\n\u001b[0m\u001b[0;32m      3\u001b[0m \u001b[0mprint\u001b[0m\u001b[1;33m(\u001b[0m\u001b[0mscore\u001b[0m\u001b[1;33m)\u001b[0m\u001b[1;33m\u001b[0m\u001b[1;33m\u001b[0m\u001b[0m\n",
      "\u001b[1;31mNameError\u001b[0m: name 'lr' is not defined"
     ]
    }
   ],
   "source": [
    "# Use score method to get accuracy of model\n",
    "score = lr.score(x_test, y_test)\n",
    "print(score)"
   ]
  },
  {
   "cell_type": "code",
   "execution_count": 85,
   "metadata": {},
   "outputs": [],
   "source": [
    "for i in df_2019.index:\n",
    "    if df_2019.loc[i,\"home_win\"] == True :\n",
    "        df_2019.loc[i,\"home_win\"] = 1\n",
    "    else :\n",
    "        df_2019.loc[i,\"home_win\"] = 0"
   ]
  },
  {
   "cell_type": "code",
   "execution_count": 86,
   "metadata": {},
   "outputs": [],
   "source": [
    "df_2019[\"away_win\"] = df_2019[\"FTR\"] == \"A\""
   ]
  },
  {
   "cell_type": "code",
   "execution_count": 87,
   "metadata": {},
   "outputs": [],
   "source": [
    "for i in df_2019.index:\n",
    "    if df_2019.loc[i,\"away_win\"] == True :\n",
    "        df_2019.loc[i,\"away_win\"] = 1\n",
    "    else :\n",
    "        df_2019.loc[i,\"away_win\"] = 0"
   ]
  },
  {
   "cell_type": "code",
   "execution_count": 88,
   "metadata": {},
   "outputs": [],
   "source": [
    "for i  in df_2019.index :\n",
    "    datetimecorr1 = datetime.datetime.strptime(df_2019.loc[i,'Date'], '%d/%m/%Y')\n",
    "    df_2019.loc[i,\"Datetime\"] = datetimecorr1.date()"
   ]
  },
  {
   "cell_type": "code",
   "execution_count": 89,
   "metadata": {},
   "outputs": [],
   "source": [
    "for i in df_2019.index:\n",
    "    date = df_2019.loc[i,\"Datetime\"]\n",
    "    temp_df = df_2019[df_2019[\"Datetime\"] < date]\n",
    "    df_2019.loc[i,\"game_won_before_h\"] = temp_df[\"home_win\"].sum()"
   ]
  },
  {
   "cell_type": "code",
   "execution_count": 90,
   "metadata": {},
   "outputs": [],
   "source": [
    "for i in df_2019.index :\n",
    "    date = df_2019.loc[i,\"Datetime\"]\n",
    "    temp_df = df_2019[df_2019[\"Datetime\"] < date]\n",
    "    df_2019.loc[i,\"game_won_before_a\"] = temp_df[\"away_win\"].sum()"
   ]
  },
  {
   "cell_type": "code",
   "execution_count": 91,
   "metadata": {},
   "outputs": [
    {
     "name": "stdout",
     "output_type": "stream",
     "text": [
      "1.51 1.005 2.515\n"
     ]
    }
   ],
   "source": [
    "totalhomegoals = df_2019[\"FTHG\"].sum()\n",
    "totalawaygoals = df_2019[\"FTAG\"].sum()\n",
    "totalgoals = totalhomegoals + totalawaygoals\n",
    "totalplayedgames = df19[\"Games\"].sum() /2\n",
    "avghomegoals = totalhomegoals / totalplayedgames\n",
    "avgawaygoals = totalawaygoals / totalplayedgames\n",
    "avggoals = totalgoals / totalplayedgames\n",
    "print(avghomegoals,avgawaygoals,avggoals)"
   ]
  },
  {
   "cell_type": "code",
   "execution_count": 92,
   "metadata": {},
   "outputs": [],
   "source": [
    "datelist = list(df_2019[\"Date\"])"
   ]
  },
  {
   "cell_type": "code",
   "execution_count": 93,
   "metadata": {},
   "outputs": [
    {
     "name": "stdout",
     "output_type": "stream",
     "text": [
      "['09/08/2019', '10/08/2019', '10/08/2019', '10/08/2019', '10/08/2019', '10/08/2019', '10/08/2019', '11/08/2019', '11/08/2019', '11/08/2019', '16/08/2019', '17/08/2019', '17/08/2019', '17/08/2019', '17/08/2019', '17/08/2019', '17/08/2019', '18/08/2019', '18/08/2019', '18/08/2019', '24/08/2019', '24/08/2019', '24/08/2019', '24/08/2019', '25/08/2019', '25/08/2019', '25/08/2019', '27/08/2019', '28/08/2019', '28/08/2019', '30/08/2019', '31/08/2019', '31/08/2019', '31/08/2019', '31/08/2019', '31/08/2019', '01/09/2019', '01/09/2019', '01/09/2019', '01/09/2019', '13/09/2019', '13/09/2019', '14/09/2019', '14/09/2019', '14/09/2019', '14/09/2019', '14/09/2019', '15/09/2019', '15/09/2019', '15/09/2019', '20/09/2019', '21/09/2019', '21/09/2019', '21/09/2019', '21/09/2019', '21/09/2019', '21/09/2019', '22/09/2019', '22/09/2019', '22/09/2019', '24/09/2019', '24/09/2019', '25/09/2019', '25/09/2019', '25/09/2019', '25/09/2019', '25/09/2019', '25/09/2019', '25/09/2019', '25/09/2019', '28/09/2019', '28/09/2019', '28/09/2019', '28/09/2019', '28/09/2019', '28/09/2019', '28/09/2019', '29/09/2019', '29/09/2019', '29/09/2019', '04/10/2019', '05/10/2019', '05/10/2019', '05/10/2019', '05/10/2019', '05/10/2019', '05/10/2019', '06/10/2019', '06/10/2019', '06/10/2019', '18/10/2019', '19/10/2019', '19/10/2019', '19/10/2019', '19/10/2019', '19/10/2019', '19/10/2019', '20/10/2019', '20/10/2019', '20/10/2019', '25/10/2019', '26/10/2019', '26/10/2019', '26/10/2019', '26/10/2019', '26/10/2019', '26/10/2019', '27/10/2019', '27/10/2019', '27/10/2019', '01/11/2019', '02/11/2019', '02/11/2019', '02/11/2019', '02/11/2019', '02/11/2019', '03/11/2019', '03/11/2019', '03/11/2019', '08/11/2019', '09/11/2019', '09/11/2019', '09/11/2019', '09/11/2019', '09/11/2019', '10/11/2019', '10/11/2019', '10/11/2019', '10/11/2019', '22/11/2019', '23/11/2019', '23/11/2019', '23/11/2019', '23/11/2019', '23/11/2019', '23/11/2019', '24/11/2019', '24/11/2019', '24/11/2019', '29/11/2019', '30/11/2019', '30/11/2019', '30/11/2019', '30/11/2019', '30/11/2019', '30/11/2019', '01/12/2019', '01/12/2019', '03/12/2019', '03/12/2019', '03/12/2019', '03/12/2019', '04/12/2019', '04/12/2019', '04/12/2019', '04/12/2019', '04/12/2019', '06/12/2019', '06/12/2019', '07/12/2019', '07/12/2019', '07/12/2019', '07/12/2019', '07/12/2019', '08/12/2019', '08/12/2019', '08/12/2019', '13/12/2019', '14/12/2019', '14/12/2019', '14/12/2019', '14/12/2019', '14/12/2019', '14/12/2019', '15/12/2019', '15/12/2019', '15/12/2019', '21/12/2019', '21/12/2019', '21/12/2019', '21/12/2019', '21/12/2019', '21/12/2019', '21/12/2019', '21/12/2019', '21/12/2019', '21/12/2019', '10/01/2020', '11/01/2020', '11/01/2020', '11/01/2020', '11/01/2020', '11/01/2020', '11/01/2020', '12/01/2020', '12/01/2020', '12/01/2020', '15/01/2020', '15/01/2020', '15/01/2020']\n"
     ]
    }
   ],
   "source": [
    "print(datelist)"
   ]
  },
  {
   "cell_type": "code",
   "execution_count": 94,
   "metadata": {},
   "outputs": [],
   "source": [
    "# Number of Home wins\n",
    "for i in df19.index:\n",
    "    team = df19.loc[i,\"Teams\"]\n",
    "    winningratioh = df_2019.groupby(\"HomeTeam\").mean().loc[team,\"home_win\"]\n",
    "    df19.loc[i,\"Homewins\"] = winningratioh"
   ]
  },
  {
   "cell_type": "code",
   "execution_count": 95,
   "metadata": {},
   "outputs": [],
   "source": [
    "# Number of Away wins\n",
    "for i in df19.index:\n",
    "    team = df19.loc[i,\"Teams\"]\n",
    "    winningratioa = df_2019.groupby(\"AwayTeam\").mean().loc[team,\"away_win\"]\n",
    "    df19.loc[i,\"Awaywins\"] = winningratioa"
   ]
  },
  {
   "cell_type": "code",
   "execution_count": 96,
   "metadata": {},
   "outputs": [],
   "source": [
    "# Number of Home Goals\n",
    "for i in df19.index:\n",
    "    team = df19.loc[i,\"Teams\"]\n",
    "    homegoalsh = df_2019.groupby(\"HomeTeam\").mean().loc[team,\"FTHG\"]\n",
    "    df19.loc[i,\"N° home goals per game\"] = homegoalsh"
   ]
  },
  {
   "cell_type": "code",
   "execution_count": 97,
   "metadata": {},
   "outputs": [],
   "source": [
    "# Number of Away Goals\n",
    "for i in df19.index:\n",
    "    team = df19.loc[i,\"Teams\"]\n",
    "    awaygoalsa = df_2019.groupby(\"AwayTeam\").mean().loc[team,\"FTAG\"]\n",
    "    df19.loc[i,\"N° away goals per game\"] = awaygoalsa"
   ]
  },
  {
   "cell_type": "code",
   "execution_count": 98,
   "metadata": {},
   "outputs": [],
   "source": [
    "# Number of Home Goals conceded\n",
    "for i in df19.index:\n",
    "    team = df19.loc[i,\"Teams\"]\n",
    "    homegoalsa = df_2019.groupby(\"HomeTeam\").mean().loc[team,\"FTAG\"]\n",
    "    df19.loc[i,\"N° home goals conceded per game\"] = homegoalsa"
   ]
  },
  {
   "cell_type": "code",
   "execution_count": 99,
   "metadata": {},
   "outputs": [],
   "source": [
    "# Number of Away Goals conceded\n",
    "for i in df19.index:\n",
    "    team = df19.loc[i,\"Teams\"]\n",
    "    awaygoalsh = df_2019.groupby(\"AwayTeam\").mean().loc[team,\"FTHG\"]\n",
    "    df19.loc[i,\"N° away goals conceded per game\"] = awaygoalsh"
   ]
  },
  {
   "cell_type": "code",
   "execution_count": 100,
   "metadata": {},
   "outputs": [],
   "source": [
    "# Number of Goals per game\n",
    "for i in df19.index:\n",
    "    team = df19.loc[i,\"Teams\"]\n",
    "    homegoalsa = df_2019.groupby(\"HomeTeam\").mean().loc[team,\"FTHG\"]\n",
    "    awaygoalsa = df_2019.groupby(\"AwayTeam\").mean().loc[team,\"FTAG\"]\n",
    "    homegoalsa = df_2019.groupby(\"HomeTeam\").mean().loc[team,\"FTAG\"]\n",
    "    awaygoalsh = df_2019.groupby(\"AwayTeam\").mean().loc[team,\"FTHG\"]\n",
    "    df19.loc[i,\"N° goals per game\"] = (homegoalsa + awaygoalsa + homegoalsh + awaygoalsh)/2"
   ]
  },
  {
   "cell_type": "code",
   "execution_count": 101,
   "metadata": {},
   "outputs": [
    {
     "data": {
      "text/plain": [
       "2.5741"
      ]
     },
     "execution_count": 101,
     "metadata": {},
     "output_type": "execute_result"
    }
   ],
   "source": [
    "df_2019[\"AvgH\"].sum() / totalplayedgames"
   ]
  },
  {
   "cell_type": "code",
   "execution_count": 102,
   "metadata": {},
   "outputs": [
    {
     "data": {
      "text/plain": [
       "4.3328500000000005"
      ]
     },
     "execution_count": 102,
     "metadata": {},
     "output_type": "execute_result"
    }
   ],
   "source": [
    "df_2019[\"AvgA\"].sum() / totalplayedgames"
   ]
  },
  {
   "cell_type": "code",
   "execution_count": 103,
   "metadata": {},
   "outputs": [
    {
     "data": {
      "text/plain": [
       "3.7491999999999996"
      ]
     },
     "execution_count": 103,
     "metadata": {},
     "output_type": "execute_result"
    }
   ],
   "source": [
    "df_2019[\"AvgD\"].sum() / totalplayedgames"
   ]
  },
  {
   "cell_type": "code",
   "execution_count": 104,
   "metadata": {},
   "outputs": [
    {
     "data": {
      "text/plain": [
       "2.08655"
      ]
     },
     "execution_count": 104,
     "metadata": {},
     "output_type": "execute_result"
    }
   ],
   "source": [
    "df_2019[\"Avg>2.5\"].sum() / totalplayedgames"
   ]
  },
  {
   "cell_type": "code",
   "execution_count": 105,
   "metadata": {},
   "outputs": [
    {
     "data": {
      "text/plain": [
       "1.86375"
      ]
     },
     "execution_count": 105,
     "metadata": {},
     "output_type": "execute_result"
    }
   ],
   "source": [
    "df_2019[\"Avg<2.5\"].sum() / totalplayedgames"
   ]
  },
  {
   "cell_type": "code",
   "execution_count": 121,
   "metadata": {},
   "outputs": [
    {
     "data": {
      "text/html": [
       "<div>\n",
       "<style scoped>\n",
       "    .dataframe tbody tr th:only-of-type {\n",
       "        vertical-align: middle;\n",
       "    }\n",
       "\n",
       "    .dataframe tbody tr th {\n",
       "        vertical-align: top;\n",
       "    }\n",
       "\n",
       "    .dataframe thead th {\n",
       "        text-align: right;\n",
       "    }\n",
       "</style>\n",
       "<table border=\"1\" class=\"dataframe\">\n",
       "  <thead>\n",
       "    <tr style=\"text-align: right;\">\n",
       "      <th></th>\n",
       "      <th>Div</th>\n",
       "      <th>Date</th>\n",
       "      <th>Time</th>\n",
       "      <th>HomeTeam</th>\n",
       "      <th>AwayTeam</th>\n",
       "      <th>FTHG</th>\n",
       "      <th>FTAG</th>\n",
       "      <th>FTR</th>\n",
       "      <th>HTHG</th>\n",
       "      <th>HTAG</th>\n",
       "      <th>...</th>\n",
       "      <th>Games lost before by Monaco</th>\n",
       "      <th>Games lost before by Angers</th>\n",
       "      <th>Games lost before by Nice</th>\n",
       "      <th>Games lost before by Toulouse</th>\n",
       "      <th>Games lost before by Amiens</th>\n",
       "      <th>Games lost before by Rennes</th>\n",
       "      <th>Games lost before by Brest</th>\n",
       "      <th>Games lost before by Dijon</th>\n",
       "      <th>Games lost before by Strasbourg</th>\n",
       "      <th>Games lost before by Metz</th>\n",
       "    </tr>\n",
       "  </thead>\n",
       "  <tbody>\n",
       "    <tr>\n",
       "      <th>0</th>\n",
       "      <td>F1</td>\n",
       "      <td>09/08/2019</td>\n",
       "      <td>19:45</td>\n",
       "      <td>Monaco</td>\n",
       "      <td>Lyon</td>\n",
       "      <td>0</td>\n",
       "      <td>3</td>\n",
       "      <td>A</td>\n",
       "      <td>0</td>\n",
       "      <td>2</td>\n",
       "      <td>...</td>\n",
       "      <td>0.0</td>\n",
       "      <td>0.0</td>\n",
       "      <td>0.0</td>\n",
       "      <td>0.0</td>\n",
       "      <td>0.0</td>\n",
       "      <td>0.0</td>\n",
       "      <td>0.0</td>\n",
       "      <td>0.0</td>\n",
       "      <td>0.0</td>\n",
       "      <td>0.0</td>\n",
       "    </tr>\n",
       "    <tr>\n",
       "      <th>1</th>\n",
       "      <td>F1</td>\n",
       "      <td>10/08/2019</td>\n",
       "      <td>16:30</td>\n",
       "      <td>Marseille</td>\n",
       "      <td>Reims</td>\n",
       "      <td>0</td>\n",
       "      <td>2</td>\n",
       "      <td>A</td>\n",
       "      <td>0</td>\n",
       "      <td>0</td>\n",
       "      <td>...</td>\n",
       "      <td>1.0</td>\n",
       "      <td>0.0</td>\n",
       "      <td>0.0</td>\n",
       "      <td>0.0</td>\n",
       "      <td>0.0</td>\n",
       "      <td>0.0</td>\n",
       "      <td>0.0</td>\n",
       "      <td>0.0</td>\n",
       "      <td>0.0</td>\n",
       "      <td>0.0</td>\n",
       "    </tr>\n",
       "    <tr>\n",
       "      <th>2</th>\n",
       "      <td>F1</td>\n",
       "      <td>10/08/2019</td>\n",
       "      <td>19:00</td>\n",
       "      <td>Angers</td>\n",
       "      <td>Bordeaux</td>\n",
       "      <td>3</td>\n",
       "      <td>1</td>\n",
       "      <td>H</td>\n",
       "      <td>3</td>\n",
       "      <td>1</td>\n",
       "      <td>...</td>\n",
       "      <td>1.0</td>\n",
       "      <td>0.0</td>\n",
       "      <td>0.0</td>\n",
       "      <td>0.0</td>\n",
       "      <td>0.0</td>\n",
       "      <td>0.0</td>\n",
       "      <td>0.0</td>\n",
       "      <td>0.0</td>\n",
       "      <td>0.0</td>\n",
       "      <td>0.0</td>\n",
       "    </tr>\n",
       "    <tr>\n",
       "      <th>3</th>\n",
       "      <td>F1</td>\n",
       "      <td>10/08/2019</td>\n",
       "      <td>19:00</td>\n",
       "      <td>Brest</td>\n",
       "      <td>Toulouse</td>\n",
       "      <td>1</td>\n",
       "      <td>1</td>\n",
       "      <td>D</td>\n",
       "      <td>1</td>\n",
       "      <td>0</td>\n",
       "      <td>...</td>\n",
       "      <td>1.0</td>\n",
       "      <td>0.0</td>\n",
       "      <td>0.0</td>\n",
       "      <td>0.0</td>\n",
       "      <td>0.0</td>\n",
       "      <td>0.0</td>\n",
       "      <td>0.0</td>\n",
       "      <td>0.0</td>\n",
       "      <td>0.0</td>\n",
       "      <td>0.0</td>\n",
       "    </tr>\n",
       "    <tr>\n",
       "      <th>4</th>\n",
       "      <td>F1</td>\n",
       "      <td>10/08/2019</td>\n",
       "      <td>19:00</td>\n",
       "      <td>Dijon</td>\n",
       "      <td>St Etienne</td>\n",
       "      <td>1</td>\n",
       "      <td>2</td>\n",
       "      <td>A</td>\n",
       "      <td>1</td>\n",
       "      <td>2</td>\n",
       "      <td>...</td>\n",
       "      <td>1.0</td>\n",
       "      <td>0.0</td>\n",
       "      <td>0.0</td>\n",
       "      <td>0.0</td>\n",
       "      <td>0.0</td>\n",
       "      <td>0.0</td>\n",
       "      <td>0.0</td>\n",
       "      <td>0.0</td>\n",
       "      <td>0.0</td>\n",
       "      <td>0.0</td>\n",
       "    </tr>\n",
       "    <tr>\n",
       "      <th>...</th>\n",
       "      <td>...</td>\n",
       "      <td>...</td>\n",
       "      <td>...</td>\n",
       "      <td>...</td>\n",
       "      <td>...</td>\n",
       "      <td>...</td>\n",
       "      <td>...</td>\n",
       "      <td>...</td>\n",
       "      <td>...</td>\n",
       "      <td>...</td>\n",
       "      <td>...</td>\n",
       "      <td>...</td>\n",
       "      <td>...</td>\n",
       "      <td>...</td>\n",
       "      <td>...</td>\n",
       "      <td>...</td>\n",
       "      <td>...</td>\n",
       "      <td>...</td>\n",
       "      <td>...</td>\n",
       "      <td>...</td>\n",
       "      <td>...</td>\n",
       "    </tr>\n",
       "    <tr>\n",
       "      <th>195</th>\n",
       "      <td>F1</td>\n",
       "      <td>12/01/2020</td>\n",
       "      <td>16:00</td>\n",
       "      <td>Dijon</td>\n",
       "      <td>Lille</td>\n",
       "      <td>1</td>\n",
       "      <td>0</td>\n",
       "      <td>H</td>\n",
       "      <td>0</td>\n",
       "      <td>0</td>\n",
       "      <td>...</td>\n",
       "      <td>6.0</td>\n",
       "      <td>7.0</td>\n",
       "      <td>8.0</td>\n",
       "      <td>14.0</td>\n",
       "      <td>10.0</td>\n",
       "      <td>6.0</td>\n",
       "      <td>7.0</td>\n",
       "      <td>9.0</td>\n",
       "      <td>9.0</td>\n",
       "      <td>8.0</td>\n",
       "    </tr>\n",
       "    <tr>\n",
       "      <th>196</th>\n",
       "      <td>F1</td>\n",
       "      <td>12/01/2020</td>\n",
       "      <td>20:00</td>\n",
       "      <td>Paris SG</td>\n",
       "      <td>Monaco</td>\n",
       "      <td>3</td>\n",
       "      <td>3</td>\n",
       "      <td>D</td>\n",
       "      <td>3</td>\n",
       "      <td>2</td>\n",
       "      <td>...</td>\n",
       "      <td>6.0</td>\n",
       "      <td>7.0</td>\n",
       "      <td>8.0</td>\n",
       "      <td>14.0</td>\n",
       "      <td>10.0</td>\n",
       "      <td>6.0</td>\n",
       "      <td>7.0</td>\n",
       "      <td>9.0</td>\n",
       "      <td>9.0</td>\n",
       "      <td>8.0</td>\n",
       "    </tr>\n",
       "    <tr>\n",
       "      <th>197</th>\n",
       "      <td>F1</td>\n",
       "      <td>15/01/2020</td>\n",
       "      <td>18:00</td>\n",
       "      <td>Amiens</td>\n",
       "      <td>Reims</td>\n",
       "      <td>1</td>\n",
       "      <td>1</td>\n",
       "      <td>D</td>\n",
       "      <td>0</td>\n",
       "      <td>1</td>\n",
       "      <td>...</td>\n",
       "      <td>6.0</td>\n",
       "      <td>7.0</td>\n",
       "      <td>8.0</td>\n",
       "      <td>14.0</td>\n",
       "      <td>10.0</td>\n",
       "      <td>6.0</td>\n",
       "      <td>7.0</td>\n",
       "      <td>9.0</td>\n",
       "      <td>9.0</td>\n",
       "      <td>8.0</td>\n",
       "    </tr>\n",
       "    <tr>\n",
       "      <th>198</th>\n",
       "      <td>F1</td>\n",
       "      <td>15/01/2020</td>\n",
       "      <td>18:00</td>\n",
       "      <td>Nimes</td>\n",
       "      <td>Rennes</td>\n",
       "      <td>0</td>\n",
       "      <td>1</td>\n",
       "      <td>A</td>\n",
       "      <td>0</td>\n",
       "      <td>0</td>\n",
       "      <td>...</td>\n",
       "      <td>6.0</td>\n",
       "      <td>7.0</td>\n",
       "      <td>8.0</td>\n",
       "      <td>14.0</td>\n",
       "      <td>10.0</td>\n",
       "      <td>6.0</td>\n",
       "      <td>7.0</td>\n",
       "      <td>9.0</td>\n",
       "      <td>9.0</td>\n",
       "      <td>8.0</td>\n",
       "    </tr>\n",
       "    <tr>\n",
       "      <th>199</th>\n",
       "      <td>F1</td>\n",
       "      <td>15/01/2020</td>\n",
       "      <td>20:00</td>\n",
       "      <td>Monaco</td>\n",
       "      <td>Paris SG</td>\n",
       "      <td>1</td>\n",
       "      <td>4</td>\n",
       "      <td>A</td>\n",
       "      <td>0</td>\n",
       "      <td>2</td>\n",
       "      <td>...</td>\n",
       "      <td>6.0</td>\n",
       "      <td>7.0</td>\n",
       "      <td>8.0</td>\n",
       "      <td>14.0</td>\n",
       "      <td>10.0</td>\n",
       "      <td>6.0</td>\n",
       "      <td>7.0</td>\n",
       "      <td>9.0</td>\n",
       "      <td>9.0</td>\n",
       "      <td>8.0</td>\n",
       "    </tr>\n",
       "  </tbody>\n",
       "</table>\n",
       "<p>200 rows × 192 columns</p>\n",
       "</div>"
      ],
      "text/plain": [
       "    Div        Date   Time   HomeTeam    AwayTeam  FTHG  FTAG FTR  HTHG  HTAG  \\\n",
       "0    F1  09/08/2019  19:45     Monaco        Lyon     0     3   A     0     2   \n",
       "1    F1  10/08/2019  16:30  Marseille       Reims     0     2   A     0     0   \n",
       "2    F1  10/08/2019  19:00     Angers    Bordeaux     3     1   H     3     1   \n",
       "3    F1  10/08/2019  19:00      Brest    Toulouse     1     1   D     1     0   \n",
       "4    F1  10/08/2019  19:00      Dijon  St Etienne     1     2   A     1     2   \n",
       "..   ..         ...    ...        ...         ...   ...   ...  ..   ...   ...   \n",
       "195  F1  12/01/2020  16:00      Dijon       Lille     1     0   H     0     0   \n",
       "196  F1  12/01/2020  20:00   Paris SG      Monaco     3     3   D     3     2   \n",
       "197  F1  15/01/2020  18:00     Amiens       Reims     1     1   D     0     1   \n",
       "198  F1  15/01/2020  18:00      Nimes      Rennes     0     1   A     0     0   \n",
       "199  F1  15/01/2020  20:00     Monaco    Paris SG     1     4   A     0     2   \n",
       "\n",
       "     ... Games lost before by Monaco  Games lost before by Angers  \\\n",
       "0    ...                         0.0                          0.0   \n",
       "1    ...                         1.0                          0.0   \n",
       "2    ...                         1.0                          0.0   \n",
       "3    ...                         1.0                          0.0   \n",
       "4    ...                         1.0                          0.0   \n",
       "..   ...                         ...                          ...   \n",
       "195  ...                         6.0                          7.0   \n",
       "196  ...                         6.0                          7.0   \n",
       "197  ...                         6.0                          7.0   \n",
       "198  ...                         6.0                          7.0   \n",
       "199  ...                         6.0                          7.0   \n",
       "\n",
       "     Games lost before by Nice  Games lost before by Toulouse  \\\n",
       "0                          0.0                            0.0   \n",
       "1                          0.0                            0.0   \n",
       "2                          0.0                            0.0   \n",
       "3                          0.0                            0.0   \n",
       "4                          0.0                            0.0   \n",
       "..                         ...                            ...   \n",
       "195                        8.0                           14.0   \n",
       "196                        8.0                           14.0   \n",
       "197                        8.0                           14.0   \n",
       "198                        8.0                           14.0   \n",
       "199                        8.0                           14.0   \n",
       "\n",
       "     Games lost before by Amiens  Games lost before by Rennes  \\\n",
       "0                            0.0                          0.0   \n",
       "1                            0.0                          0.0   \n",
       "2                            0.0                          0.0   \n",
       "3                            0.0                          0.0   \n",
       "4                            0.0                          0.0   \n",
       "..                           ...                          ...   \n",
       "195                         10.0                          6.0   \n",
       "196                         10.0                          6.0   \n",
       "197                         10.0                          6.0   \n",
       "198                         10.0                          6.0   \n",
       "199                         10.0                          6.0   \n",
       "\n",
       "     Games lost before by Brest  Games lost before by Dijon  \\\n",
       "0                           0.0                         0.0   \n",
       "1                           0.0                         0.0   \n",
       "2                           0.0                         0.0   \n",
       "3                           0.0                         0.0   \n",
       "4                           0.0                         0.0   \n",
       "..                          ...                         ...   \n",
       "195                         7.0                         9.0   \n",
       "196                         7.0                         9.0   \n",
       "197                         7.0                         9.0   \n",
       "198                         7.0                         9.0   \n",
       "199                         7.0                         9.0   \n",
       "\n",
       "     Games lost before by Strasbourg  Games lost before by Metz  \n",
       "0                                0.0                        0.0  \n",
       "1                                0.0                        0.0  \n",
       "2                                0.0                        0.0  \n",
       "3                                0.0                        0.0  \n",
       "4                                0.0                        0.0  \n",
       "..                               ...                        ...  \n",
       "195                              9.0                        8.0  \n",
       "196                              9.0                        8.0  \n",
       "197                              9.0                        8.0  \n",
       "198                              9.0                        8.0  \n",
       "199                              9.0                        8.0  \n",
       "\n",
       "[200 rows x 192 columns]"
      ]
     },
     "execution_count": 121,
     "metadata": {},
     "output_type": "execute_result"
    }
   ],
   "source": [
    "df_2019"
   ]
  },
  {
   "cell_type": "code",
   "execution_count": 107,
   "metadata": {},
   "outputs": [],
   "source": [
    "# Wins of each team 1-0\n",
    "for n in df19.index :\n",
    "    for i in df_2019.index:\n",
    "        team = df19.loc[n,\"Teams\"]\n",
    "        name1 = \"Wins of {}\".format(team)\n",
    "        if df_2019.loc[i,\"WinningTeam\"] == team :\n",
    "            df_2019.loc[i,name1] = 1\n",
    "        else :\n",
    "            df_2019.loc[i,name1] = 0"
   ]
  },
  {
   "cell_type": "code",
   "execution_count": 108,
   "metadata": {},
   "outputs": [],
   "source": [
    "# Wins before game\n",
    "for n in df19.index :\n",
    "    for i in df_2019.index:\n",
    "        team = df19.loc[n,\"Teams\"]\n",
    "        date = df_2019.loc[i,\"Datetime\"]\n",
    "        temp_df = df_2019[df_2019[\"Datetime\"] < date]\n",
    "        name1 = \"Wins of {}\".format(team)\n",
    "        name2 = \"Games won before by {}\".format(team)\n",
    "        df_2019.loc[i,name2] = temp_df[name1].sum()"
   ]
  },
  {
   "cell_type": "code",
   "execution_count": 127,
   "metadata": {},
   "outputs": [],
   "source": [
    "# Home wins before game\n",
    "for n in df19.index :\n",
    "    for i in df_2019.index:\n",
    "        team = df19.loc[n,\"Teams\"]\n",
    "        date = df_2019.loc[i,\"Datetime\"]\n",
    "        temp_df = df_2019[df_2019[\"Datetime\"] < date]\n",
    "        temp_df2 = temp_df[temp_df[\"HomeTeam\"] == team ]\n",
    "        name1 = \"Wins of {}\".format(team)\n",
    "        name2 = \"Home games won before by {}\".format(team)\n",
    "        df_2019.loc[i,name2] = temp_df2[name1].sum()"
   ]
  },
  {
   "cell_type": "code",
   "execution_count": 128,
   "metadata": {},
   "outputs": [],
   "source": [
    "# Away wins before game\n",
    "for n in df19.index :\n",
    "    for i in df_2019.index:\n",
    "        team = df19.loc[n,\"Teams\"]\n",
    "        date = df_2019.loc[i,\"Datetime\"]\n",
    "        temp_df = df_2019[df_2019[\"Datetime\"] < date]\n",
    "        temp_df2 = temp_df[temp_df[\"AwayTeam\"] == team ]\n",
    "        name1 = \"Wins of {}\".format(team)\n",
    "        name2 = \"Away games won before by {}\".format(team)\n",
    "        df_2019.loc[i,name2] = temp_df2[name1].sum()"
   ]
  },
  {
   "cell_type": "code",
   "execution_count": 109,
   "metadata": {},
   "outputs": [],
   "source": [
    "# Losses of each team 1-0\n",
    "for n in df19.index :\n",
    "    for i in df_2019.index:\n",
    "        team = df19.loc[n,\"Teams\"]\n",
    "        name1 = \"Losses of {}\".format(team)\n",
    "        if df_2019.loc[i,\"LosingTeam\"] == team :\n",
    "            df_2019.loc[i,name1] = 1\n",
    "        else :\n",
    "            df_2019.loc[i,name1] = 0"
   ]
  },
  {
   "cell_type": "code",
   "execution_count": 110,
   "metadata": {},
   "outputs": [],
   "source": [
    "# Losses before game\n",
    "for n in df19.index :\n",
    "    for i in df_2019.index:\n",
    "        team = df19.loc[n,\"Teams\"]\n",
    "        date = df_2019.loc[i,\"Datetime\"]\n",
    "        temp_df = df_2019[df_2019[\"Datetime\"] < date]\n",
    "        name1 = \"Losses of {}\".format(team)\n",
    "        name2 = \"Games lost before by {}\".format(team)\n",
    "        df_2019.loc[i,name2] = temp_df[name1].sum()"
   ]
  },
  {
   "cell_type": "code",
   "execution_count": 125,
   "metadata": {},
   "outputs": [],
   "source": [
    "# Home losses before game\n",
    "for n in df19.index :\n",
    "    for i in df_2019.index:\n",
    "        team = df19.loc[n,\"Teams\"]\n",
    "        date = df_2019.loc[i,\"Datetime\"]\n",
    "        temp_df = df_2019[df_2019[\"Datetime\"] < date]\n",
    "        temp_df2 = temp_df[temp_df[\"HomeTeam\"] == team ]\n",
    "        name1 = \"Losses of {}\".format(team)\n",
    "        name2 = \"Home games lost before by {}\".format(team)\n",
    "        df_2019.loc[i,name2] = temp_df2[name1].sum()"
   ]
  },
  {
   "cell_type": "code",
   "execution_count": 129,
   "metadata": {},
   "outputs": [],
   "source": [
    "# Away losses before game\n",
    "for n in df19.index :\n",
    "    for i in df_2019.index:\n",
    "        team = df19.loc[n,\"Teams\"]\n",
    "        date = df_2019.loc[i,\"Datetime\"]\n",
    "        temp_df = df_2019[df_2019[\"Datetime\"] < date]\n",
    "        temp_df2 = temp_df[temp_df[\"AwayTeam\"] == team ]\n",
    "        name1 = \"Losses of {}\".format(team)\n",
    "        name2 = \"Away games lost before by {}\".format(team)\n",
    "        df_2019.loc[i,name2] = temp_df2[name1].sum()"
   ]
  },
  {
   "cell_type": "code",
   "execution_count": 111,
   "metadata": {},
   "outputs": [],
   "source": [
    "df19[\"Teamsc\"] = df19[\"Teams\"].apply(lambda x: x.replace(\" \",\"_\"))"
   ]
  },
  {
   "cell_type": "code",
   "execution_count": 130,
   "metadata": {},
   "outputs": [
    {
     "data": {
      "text/html": [
       "<div>\n",
       "<style scoped>\n",
       "    .dataframe tbody tr th:only-of-type {\n",
       "        vertical-align: middle;\n",
       "    }\n",
       "\n",
       "    .dataframe tbody tr th {\n",
       "        vertical-align: top;\n",
       "    }\n",
       "\n",
       "    .dataframe thead th {\n",
       "        text-align: right;\n",
       "    }\n",
       "</style>\n",
       "<table border=\"1\" class=\"dataframe\">\n",
       "  <thead>\n",
       "    <tr style=\"text-align: right;\">\n",
       "      <th></th>\n",
       "      <th>Div</th>\n",
       "      <th>Date</th>\n",
       "      <th>Time</th>\n",
       "      <th>HomeTeam</th>\n",
       "      <th>AwayTeam</th>\n",
       "      <th>FTHG</th>\n",
       "      <th>FTAG</th>\n",
       "      <th>FTR</th>\n",
       "      <th>HTHG</th>\n",
       "      <th>HTAG</th>\n",
       "      <th>...</th>\n",
       "      <th>Away games lost before by Monaco</th>\n",
       "      <th>Away games lost before by Angers</th>\n",
       "      <th>Away games lost before by Nice</th>\n",
       "      <th>Away games lost before by Toulouse</th>\n",
       "      <th>Away games lost before by Amiens</th>\n",
       "      <th>Away games lost before by Rennes</th>\n",
       "      <th>Away games lost before by Brest</th>\n",
       "      <th>Away games lost before by Dijon</th>\n",
       "      <th>Away games lost before by Strasbourg</th>\n",
       "      <th>Away games lost before by Metz</th>\n",
       "    </tr>\n",
       "  </thead>\n",
       "  <tbody>\n",
       "    <tr>\n",
       "      <th>0</th>\n",
       "      <td>F1</td>\n",
       "      <td>09/08/2019</td>\n",
       "      <td>19:45</td>\n",
       "      <td>Monaco</td>\n",
       "      <td>Lyon</td>\n",
       "      <td>0</td>\n",
       "      <td>3</td>\n",
       "      <td>A</td>\n",
       "      <td>0</td>\n",
       "      <td>2</td>\n",
       "      <td>...</td>\n",
       "      <td>0.0</td>\n",
       "      <td>0.0</td>\n",
       "      <td>0.0</td>\n",
       "      <td>0.0</td>\n",
       "      <td>0.0</td>\n",
       "      <td>0.0</td>\n",
       "      <td>0.0</td>\n",
       "      <td>0.0</td>\n",
       "      <td>0.0</td>\n",
       "      <td>0.0</td>\n",
       "    </tr>\n",
       "    <tr>\n",
       "      <th>1</th>\n",
       "      <td>F1</td>\n",
       "      <td>10/08/2019</td>\n",
       "      <td>16:30</td>\n",
       "      <td>Marseille</td>\n",
       "      <td>Reims</td>\n",
       "      <td>0</td>\n",
       "      <td>2</td>\n",
       "      <td>A</td>\n",
       "      <td>0</td>\n",
       "      <td>0</td>\n",
       "      <td>...</td>\n",
       "      <td>0.0</td>\n",
       "      <td>0.0</td>\n",
       "      <td>0.0</td>\n",
       "      <td>0.0</td>\n",
       "      <td>0.0</td>\n",
       "      <td>0.0</td>\n",
       "      <td>0.0</td>\n",
       "      <td>0.0</td>\n",
       "      <td>0.0</td>\n",
       "      <td>0.0</td>\n",
       "    </tr>\n",
       "    <tr>\n",
       "      <th>2</th>\n",
       "      <td>F1</td>\n",
       "      <td>10/08/2019</td>\n",
       "      <td>19:00</td>\n",
       "      <td>Angers</td>\n",
       "      <td>Bordeaux</td>\n",
       "      <td>3</td>\n",
       "      <td>1</td>\n",
       "      <td>H</td>\n",
       "      <td>3</td>\n",
       "      <td>1</td>\n",
       "      <td>...</td>\n",
       "      <td>0.0</td>\n",
       "      <td>0.0</td>\n",
       "      <td>0.0</td>\n",
       "      <td>0.0</td>\n",
       "      <td>0.0</td>\n",
       "      <td>0.0</td>\n",
       "      <td>0.0</td>\n",
       "      <td>0.0</td>\n",
       "      <td>0.0</td>\n",
       "      <td>0.0</td>\n",
       "    </tr>\n",
       "    <tr>\n",
       "      <th>3</th>\n",
       "      <td>F1</td>\n",
       "      <td>10/08/2019</td>\n",
       "      <td>19:00</td>\n",
       "      <td>Brest</td>\n",
       "      <td>Toulouse</td>\n",
       "      <td>1</td>\n",
       "      <td>1</td>\n",
       "      <td>D</td>\n",
       "      <td>1</td>\n",
       "      <td>0</td>\n",
       "      <td>...</td>\n",
       "      <td>0.0</td>\n",
       "      <td>0.0</td>\n",
       "      <td>0.0</td>\n",
       "      <td>0.0</td>\n",
       "      <td>0.0</td>\n",
       "      <td>0.0</td>\n",
       "      <td>0.0</td>\n",
       "      <td>0.0</td>\n",
       "      <td>0.0</td>\n",
       "      <td>0.0</td>\n",
       "    </tr>\n",
       "    <tr>\n",
       "      <th>4</th>\n",
       "      <td>F1</td>\n",
       "      <td>10/08/2019</td>\n",
       "      <td>19:00</td>\n",
       "      <td>Dijon</td>\n",
       "      <td>St Etienne</td>\n",
       "      <td>1</td>\n",
       "      <td>2</td>\n",
       "      <td>A</td>\n",
       "      <td>1</td>\n",
       "      <td>2</td>\n",
       "      <td>...</td>\n",
       "      <td>0.0</td>\n",
       "      <td>0.0</td>\n",
       "      <td>0.0</td>\n",
       "      <td>0.0</td>\n",
       "      <td>0.0</td>\n",
       "      <td>0.0</td>\n",
       "      <td>0.0</td>\n",
       "      <td>0.0</td>\n",
       "      <td>0.0</td>\n",
       "      <td>0.0</td>\n",
       "    </tr>\n",
       "    <tr>\n",
       "      <th>...</th>\n",
       "      <td>...</td>\n",
       "      <td>...</td>\n",
       "      <td>...</td>\n",
       "      <td>...</td>\n",
       "      <td>...</td>\n",
       "      <td>...</td>\n",
       "      <td>...</td>\n",
       "      <td>...</td>\n",
       "      <td>...</td>\n",
       "      <td>...</td>\n",
       "      <td>...</td>\n",
       "      <td>...</td>\n",
       "      <td>...</td>\n",
       "      <td>...</td>\n",
       "      <td>...</td>\n",
       "      <td>...</td>\n",
       "      <td>...</td>\n",
       "      <td>...</td>\n",
       "      <td>...</td>\n",
       "      <td>...</td>\n",
       "      <td>...</td>\n",
       "    </tr>\n",
       "    <tr>\n",
       "      <th>195</th>\n",
       "      <td>F1</td>\n",
       "      <td>12/01/2020</td>\n",
       "      <td>16:00</td>\n",
       "      <td>Dijon</td>\n",
       "      <td>Lille</td>\n",
       "      <td>1</td>\n",
       "      <td>0</td>\n",
       "      <td>H</td>\n",
       "      <td>0</td>\n",
       "      <td>0</td>\n",
       "      <td>...</td>\n",
       "      <td>4.0</td>\n",
       "      <td>5.0</td>\n",
       "      <td>6.0</td>\n",
       "      <td>7.0</td>\n",
       "      <td>6.0</td>\n",
       "      <td>3.0</td>\n",
       "      <td>6.0</td>\n",
       "      <td>7.0</td>\n",
       "      <td>7.0</td>\n",
       "      <td>5.0</td>\n",
       "    </tr>\n",
       "    <tr>\n",
       "      <th>196</th>\n",
       "      <td>F1</td>\n",
       "      <td>12/01/2020</td>\n",
       "      <td>20:00</td>\n",
       "      <td>Paris SG</td>\n",
       "      <td>Monaco</td>\n",
       "      <td>3</td>\n",
       "      <td>3</td>\n",
       "      <td>D</td>\n",
       "      <td>3</td>\n",
       "      <td>2</td>\n",
       "      <td>...</td>\n",
       "      <td>4.0</td>\n",
       "      <td>5.0</td>\n",
       "      <td>6.0</td>\n",
       "      <td>7.0</td>\n",
       "      <td>6.0</td>\n",
       "      <td>3.0</td>\n",
       "      <td>6.0</td>\n",
       "      <td>7.0</td>\n",
       "      <td>7.0</td>\n",
       "      <td>5.0</td>\n",
       "    </tr>\n",
       "    <tr>\n",
       "      <th>197</th>\n",
       "      <td>F1</td>\n",
       "      <td>15/01/2020</td>\n",
       "      <td>18:00</td>\n",
       "      <td>Amiens</td>\n",
       "      <td>Reims</td>\n",
       "      <td>1</td>\n",
       "      <td>1</td>\n",
       "      <td>D</td>\n",
       "      <td>0</td>\n",
       "      <td>1</td>\n",
       "      <td>...</td>\n",
       "      <td>4.0</td>\n",
       "      <td>5.0</td>\n",
       "      <td>6.0</td>\n",
       "      <td>7.0</td>\n",
       "      <td>6.0</td>\n",
       "      <td>3.0</td>\n",
       "      <td>6.0</td>\n",
       "      <td>7.0</td>\n",
       "      <td>7.0</td>\n",
       "      <td>5.0</td>\n",
       "    </tr>\n",
       "    <tr>\n",
       "      <th>198</th>\n",
       "      <td>F1</td>\n",
       "      <td>15/01/2020</td>\n",
       "      <td>18:00</td>\n",
       "      <td>Nimes</td>\n",
       "      <td>Rennes</td>\n",
       "      <td>0</td>\n",
       "      <td>1</td>\n",
       "      <td>A</td>\n",
       "      <td>0</td>\n",
       "      <td>0</td>\n",
       "      <td>...</td>\n",
       "      <td>4.0</td>\n",
       "      <td>5.0</td>\n",
       "      <td>6.0</td>\n",
       "      <td>7.0</td>\n",
       "      <td>6.0</td>\n",
       "      <td>3.0</td>\n",
       "      <td>6.0</td>\n",
       "      <td>7.0</td>\n",
       "      <td>7.0</td>\n",
       "      <td>5.0</td>\n",
       "    </tr>\n",
       "    <tr>\n",
       "      <th>199</th>\n",
       "      <td>F1</td>\n",
       "      <td>15/01/2020</td>\n",
       "      <td>20:00</td>\n",
       "      <td>Monaco</td>\n",
       "      <td>Paris SG</td>\n",
       "      <td>1</td>\n",
       "      <td>4</td>\n",
       "      <td>A</td>\n",
       "      <td>0</td>\n",
       "      <td>2</td>\n",
       "      <td>...</td>\n",
       "      <td>4.0</td>\n",
       "      <td>5.0</td>\n",
       "      <td>6.0</td>\n",
       "      <td>7.0</td>\n",
       "      <td>6.0</td>\n",
       "      <td>3.0</td>\n",
       "      <td>6.0</td>\n",
       "      <td>7.0</td>\n",
       "      <td>7.0</td>\n",
       "      <td>5.0</td>\n",
       "    </tr>\n",
       "  </tbody>\n",
       "</table>\n",
       "<p>200 rows × 272 columns</p>\n",
       "</div>"
      ],
      "text/plain": [
       "    Div        Date   Time   HomeTeam    AwayTeam  FTHG  FTAG FTR  HTHG  HTAG  \\\n",
       "0    F1  09/08/2019  19:45     Monaco        Lyon     0     3   A     0     2   \n",
       "1    F1  10/08/2019  16:30  Marseille       Reims     0     2   A     0     0   \n",
       "2    F1  10/08/2019  19:00     Angers    Bordeaux     3     1   H     3     1   \n",
       "3    F1  10/08/2019  19:00      Brest    Toulouse     1     1   D     1     0   \n",
       "4    F1  10/08/2019  19:00      Dijon  St Etienne     1     2   A     1     2   \n",
       "..   ..         ...    ...        ...         ...   ...   ...  ..   ...   ...   \n",
       "195  F1  12/01/2020  16:00      Dijon       Lille     1     0   H     0     0   \n",
       "196  F1  12/01/2020  20:00   Paris SG      Monaco     3     3   D     3     2   \n",
       "197  F1  15/01/2020  18:00     Amiens       Reims     1     1   D     0     1   \n",
       "198  F1  15/01/2020  18:00      Nimes      Rennes     0     1   A     0     0   \n",
       "199  F1  15/01/2020  20:00     Monaco    Paris SG     1     4   A     0     2   \n",
       "\n",
       "     ... Away games lost before by Monaco  Away games lost before by Angers  \\\n",
       "0    ...                              0.0                               0.0   \n",
       "1    ...                              0.0                               0.0   \n",
       "2    ...                              0.0                               0.0   \n",
       "3    ...                              0.0                               0.0   \n",
       "4    ...                              0.0                               0.0   \n",
       "..   ...                              ...                               ...   \n",
       "195  ...                              4.0                               5.0   \n",
       "196  ...                              4.0                               5.0   \n",
       "197  ...                              4.0                               5.0   \n",
       "198  ...                              4.0                               5.0   \n",
       "199  ...                              4.0                               5.0   \n",
       "\n",
       "     Away games lost before by Nice  Away games lost before by Toulouse  \\\n",
       "0                               0.0                                 0.0   \n",
       "1                               0.0                                 0.0   \n",
       "2                               0.0                                 0.0   \n",
       "3                               0.0                                 0.0   \n",
       "4                               0.0                                 0.0   \n",
       "..                              ...                                 ...   \n",
       "195                             6.0                                 7.0   \n",
       "196                             6.0                                 7.0   \n",
       "197                             6.0                                 7.0   \n",
       "198                             6.0                                 7.0   \n",
       "199                             6.0                                 7.0   \n",
       "\n",
       "     Away games lost before by Amiens  Away games lost before by Rennes  \\\n",
       "0                                 0.0                               0.0   \n",
       "1                                 0.0                               0.0   \n",
       "2                                 0.0                               0.0   \n",
       "3                                 0.0                               0.0   \n",
       "4                                 0.0                               0.0   \n",
       "..                                ...                               ...   \n",
       "195                               6.0                               3.0   \n",
       "196                               6.0                               3.0   \n",
       "197                               6.0                               3.0   \n",
       "198                               6.0                               3.0   \n",
       "199                               6.0                               3.0   \n",
       "\n",
       "     Away games lost before by Brest  Away games lost before by Dijon  \\\n",
       "0                                0.0                              0.0   \n",
       "1                                0.0                              0.0   \n",
       "2                                0.0                              0.0   \n",
       "3                                0.0                              0.0   \n",
       "4                                0.0                              0.0   \n",
       "..                               ...                              ...   \n",
       "195                              6.0                              7.0   \n",
       "196                              6.0                              7.0   \n",
       "197                              6.0                              7.0   \n",
       "198                              6.0                              7.0   \n",
       "199                              6.0                              7.0   \n",
       "\n",
       "     Away games lost before by Strasbourg  Away games lost before by Metz  \n",
       "0                                     0.0                             0.0  \n",
       "1                                     0.0                             0.0  \n",
       "2                                     0.0                             0.0  \n",
       "3                                     0.0                             0.0  \n",
       "4                                     0.0                             0.0  \n",
       "..                                    ...                             ...  \n",
       "195                                   7.0                             5.0  \n",
       "196                                   7.0                             5.0  \n",
       "197                                   7.0                             5.0  \n",
       "198                                   7.0                             5.0  \n",
       "199                                   7.0                             5.0  \n",
       "\n",
       "[200 rows x 272 columns]"
      ]
     },
     "execution_count": 130,
     "metadata": {},
     "output_type": "execute_result"
    }
   ],
   "source": [
    "df_2019"
   ]
  },
  {
   "cell_type": "code",
   "execution_count": 113,
   "metadata": {},
   "outputs": [],
   "source": [
    "for n in df19.index :\n",
    "    team = df19.loc[n,\"Teamsc\"]\n",
    "    nameteam = \"df19_{}\".format(team)\n",
    "    for i in df_2019.index:\n",
    "        df19_teamh = pd.DataFrame(df_2019.loc[df_2019.HomeTeam == team])\n",
    "    for i in df_2019.index:\n",
    "        df19_teama = pd.DataFrame(df_2019.loc[df_2019.AwayTeam == team])\n",
    "    framesteam = [df19_teama, df19_teamh]\n",
    "    result = pd.concat(framesteam)\n",
    "    exec(\"%s = result.sort_index()\" % (nameteam))"
   ]
  },
  {
   "cell_type": "code",
   "execution_count": 114,
   "metadata": {},
   "outputs": [],
   "source": [
    "for n in df19.index :\n",
    "    team = df19.loc[n,\"Teamsc\"]\n",
    "    nameteam = \"df19_{}\".format(team)\n",
    "    exec(\"%s['WINS']= %s['WinningTeam'] == team\" %(nameteam,nameteam))"
   ]
  },
  {
   "cell_type": "code",
   "execution_count": 115,
   "metadata": {},
   "outputs": [],
   "source": [
    "team = \"Paris_SG\"\n",
    "nameteam = \"df19_{}\".format(team)\n",
    "for i in df_2019.index:\n",
    "    df19_teamh = pd.DataFrame(df_2019.loc[df_2019.HomeTeam == \"Paris SG\"])\n",
    "for i in df_2019.index:\n",
    "    df19_teama = pd.DataFrame(df_2019.loc[df_2019.AwayTeam == \"Paris SG\"])\n",
    "framesteam = [df19_teama, df19_teamh]\n",
    "result = pd.concat(framesteam)\n",
    "exec(\"%s = result.sort_index()\" % (nameteam))"
   ]
  },
  {
   "cell_type": "code",
   "execution_count": 116,
   "metadata": {},
   "outputs": [],
   "source": [
    "team = \"St_Etienne\"\n",
    "nameteam = \"df19_{}\".format(team)\n",
    "for i in df_2019.index:\n",
    "    df19_teamh = pd.DataFrame(df_2019.loc[df_2019.HomeTeam == \"St Etienne\"])\n",
    "for i in df_2019.index:\n",
    "    df19_teama = pd.DataFrame(df_2019.loc[df_2019.AwayTeam == \"St Etienne\"])\n",
    "framesteam = [df19_teama, df19_teamh]\n",
    "result = pd.concat(framesteam)\n",
    "exec(\"%s = result.sort_index()\" % (nameteam))"
   ]
  },
  {
   "cell_type": "code",
   "execution_count": 117,
   "metadata": {},
   "outputs": [
    {
     "ename": "FileNotFoundError",
     "evalue": "[Errno 2] No such file or directory: 'C:\\\\Users\\\\yanis\\\\Downloads\\\\Foot test\\\\Clubs_2019\\\\df19_Lyon_2019'",
     "output_type": "error",
     "traceback": [
      "\u001b[1;31m---------------------------------------------------------------------------\u001b[0m",
      "\u001b[1;31mFileNotFoundError\u001b[0m                         Traceback (most recent call last)",
      "\u001b[1;32m<ipython-input-117-9cda5fe173c5>\u001b[0m in \u001b[0;36m<module>\u001b[1;34m\u001b[0m\n\u001b[0;32m      2\u001b[0m     \u001b[0mteam\u001b[0m \u001b[1;33m=\u001b[0m \u001b[0mdf19\u001b[0m\u001b[1;33m.\u001b[0m\u001b[0mloc\u001b[0m\u001b[1;33m[\u001b[0m\u001b[0mn\u001b[0m\u001b[1;33m,\u001b[0m\u001b[1;34m\"Teamsc\"\u001b[0m\u001b[1;33m]\u001b[0m\u001b[1;33m\u001b[0m\u001b[1;33m\u001b[0m\u001b[0m\n\u001b[0;32m      3\u001b[0m     \u001b[0mnameteam\u001b[0m \u001b[1;33m=\u001b[0m \u001b[1;34m\"df19_{}\"\u001b[0m\u001b[1;33m.\u001b[0m\u001b[0mformat\u001b[0m\u001b[1;33m(\u001b[0m\u001b[0mteam\u001b[0m\u001b[1;33m)\u001b[0m\u001b[1;33m\u001b[0m\u001b[1;33m\u001b[0m\u001b[0m\n\u001b[1;32m----> 4\u001b[1;33m     \u001b[0mexec\u001b[0m\u001b[1;33m(\u001b[0m\u001b[1;34m\"%s.to_csv(r'C:\\\\Users\\\\yanis\\\\Downloads\\\\Foot test\\\\Clubs_2019\\\\%s_2019')\"\u001b[0m \u001b[1;33m%\u001b[0m\u001b[1;33m(\u001b[0m\u001b[0mnameteam\u001b[0m\u001b[1;33m,\u001b[0m\u001b[0mnameteam\u001b[0m\u001b[1;33m)\u001b[0m\u001b[1;33m)\u001b[0m\u001b[1;33m\u001b[0m\u001b[1;33m\u001b[0m\u001b[0m\n\u001b[0m",
      "\u001b[1;32m<string>\u001b[0m in \u001b[0;36m<module>\u001b[1;34m\u001b[0m\n",
      "\u001b[1;32mC:\\ProgramData\\Anaconda3\\lib\\site-packages\\pandas\\core\\generic.py\u001b[0m in \u001b[0;36mto_csv\u001b[1;34m(self, path_or_buf, sep, na_rep, float_format, columns, header, index, index_label, mode, encoding, compression, quoting, quotechar, line_terminator, chunksize, date_format, doublequote, escapechar, decimal)\u001b[0m\n\u001b[0;32m   3226\u001b[0m             \u001b[0mdecimal\u001b[0m\u001b[1;33m=\u001b[0m\u001b[0mdecimal\u001b[0m\u001b[1;33m,\u001b[0m\u001b[1;33m\u001b[0m\u001b[1;33m\u001b[0m\u001b[0m\n\u001b[0;32m   3227\u001b[0m         )\n\u001b[1;32m-> 3228\u001b[1;33m         \u001b[0mformatter\u001b[0m\u001b[1;33m.\u001b[0m\u001b[0msave\u001b[0m\u001b[1;33m(\u001b[0m\u001b[1;33m)\u001b[0m\u001b[1;33m\u001b[0m\u001b[1;33m\u001b[0m\u001b[0m\n\u001b[0m\u001b[0;32m   3229\u001b[0m \u001b[1;33m\u001b[0m\u001b[0m\n\u001b[0;32m   3230\u001b[0m         \u001b[1;32mif\u001b[0m \u001b[0mpath_or_buf\u001b[0m \u001b[1;32mis\u001b[0m \u001b[1;32mNone\u001b[0m\u001b[1;33m:\u001b[0m\u001b[1;33m\u001b[0m\u001b[1;33m\u001b[0m\u001b[0m\n",
      "\u001b[1;32mC:\\ProgramData\\Anaconda3\\lib\\site-packages\\pandas\\io\\formats\\csvs.py\u001b[0m in \u001b[0;36msave\u001b[1;34m(self)\u001b[0m\n\u001b[0;32m    181\u001b[0m                 \u001b[0mself\u001b[0m\u001b[1;33m.\u001b[0m\u001b[0mmode\u001b[0m\u001b[1;33m,\u001b[0m\u001b[1;33m\u001b[0m\u001b[1;33m\u001b[0m\u001b[0m\n\u001b[0;32m    182\u001b[0m                 \u001b[0mencoding\u001b[0m\u001b[1;33m=\u001b[0m\u001b[0mself\u001b[0m\u001b[1;33m.\u001b[0m\u001b[0mencoding\u001b[0m\u001b[1;33m,\u001b[0m\u001b[1;33m\u001b[0m\u001b[1;33m\u001b[0m\u001b[0m\n\u001b[1;32m--> 183\u001b[1;33m                 \u001b[0mcompression\u001b[0m\u001b[1;33m=\u001b[0m\u001b[0mself\u001b[0m\u001b[1;33m.\u001b[0m\u001b[0mcompression\u001b[0m\u001b[1;33m,\u001b[0m\u001b[1;33m\u001b[0m\u001b[1;33m\u001b[0m\u001b[0m\n\u001b[0m\u001b[0;32m    184\u001b[0m             )\n\u001b[0;32m    185\u001b[0m             \u001b[0mclose\u001b[0m \u001b[1;33m=\u001b[0m \u001b[1;32mTrue\u001b[0m\u001b[1;33m\u001b[0m\u001b[1;33m\u001b[0m\u001b[0m\n",
      "\u001b[1;32mC:\\ProgramData\\Anaconda3\\lib\\site-packages\\pandas\\io\\common.py\u001b[0m in \u001b[0;36m_get_handle\u001b[1;34m(path_or_buf, mode, encoding, compression, memory_map, is_text)\u001b[0m\n\u001b[0;32m    397\u001b[0m         \u001b[1;32mif\u001b[0m \u001b[0mencoding\u001b[0m\u001b[1;33m:\u001b[0m\u001b[1;33m\u001b[0m\u001b[1;33m\u001b[0m\u001b[0m\n\u001b[0;32m    398\u001b[0m             \u001b[1;31m# Encoding\u001b[0m\u001b[1;33m\u001b[0m\u001b[1;33m\u001b[0m\u001b[1;33m\u001b[0m\u001b[0m\n\u001b[1;32m--> 399\u001b[1;33m             \u001b[0mf\u001b[0m \u001b[1;33m=\u001b[0m \u001b[0mopen\u001b[0m\u001b[1;33m(\u001b[0m\u001b[0mpath_or_buf\u001b[0m\u001b[1;33m,\u001b[0m \u001b[0mmode\u001b[0m\u001b[1;33m,\u001b[0m \u001b[0mencoding\u001b[0m\u001b[1;33m=\u001b[0m\u001b[0mencoding\u001b[0m\u001b[1;33m,\u001b[0m \u001b[0mnewline\u001b[0m\u001b[1;33m=\u001b[0m\u001b[1;34m\"\"\u001b[0m\u001b[1;33m)\u001b[0m\u001b[1;33m\u001b[0m\u001b[1;33m\u001b[0m\u001b[0m\n\u001b[0m\u001b[0;32m    400\u001b[0m         \u001b[1;32melif\u001b[0m \u001b[0mis_text\u001b[0m\u001b[1;33m:\u001b[0m\u001b[1;33m\u001b[0m\u001b[1;33m\u001b[0m\u001b[0m\n\u001b[0;32m    401\u001b[0m             \u001b[1;31m# No explicit encoding\u001b[0m\u001b[1;33m\u001b[0m\u001b[1;33m\u001b[0m\u001b[1;33m\u001b[0m\u001b[0m\n",
      "\u001b[1;31mFileNotFoundError\u001b[0m: [Errno 2] No such file or directory: 'C:\\\\Users\\\\yanis\\\\Downloads\\\\Foot test\\\\Clubs_2019\\\\df19_Lyon_2019'"
     ]
    }
   ],
   "source": [
    "for n in df19.index :\n",
    "    team = df19.loc[n,\"Teamsc\"]\n",
    "    nameteam = \"df19_{}\".format(team)\n",
    "    exec(\"%s.to_csv(r'C:\\\\Users\\\\yanis\\\\Downloads\\\\Foot test\\\\Clubs_2019\\\\%s_2019')\" %(nameteam,nameteam))"
   ]
  },
  {
   "cell_type": "code",
   "execution_count": null,
   "metadata": {},
   "outputs": [],
   "source": []
  },
  {
   "cell_type": "code",
   "execution_count": null,
   "metadata": {},
   "outputs": [],
   "source": []
  }
 ],
 "metadata": {
  "kernelspec": {
   "display_name": "Python 3",
   "language": "python",
   "name": "python3"
  },
  "language_info": {
   "codemirror_mode": {
    "name": "ipython",
    "version": 3
   },
   "file_extension": ".py",
   "mimetype": "text/x-python",
   "name": "python",
   "nbconvert_exporter": "python",
   "pygments_lexer": "ipython3",
   "version": "3.7.3"
  }
 },
 "nbformat": 4,
 "nbformat_minor": 2
}
